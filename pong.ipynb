{
 "cells": [
  {
   "cell_type": "code",
   "execution_count": null,
   "metadata": {},
   "outputs": [],
   "source": [
    "import turtle\n",
    "import os"
   ]
  },
  {
   "cell_type": "code",
   "execution_count": null,
   "metadata": {
    "scrolled": true
   },
   "outputs": [],
   "source": [
    "wn=turtle.Screen()\n",
    "wn.title(\"pong by anil\")\n",
    "wn.bgcolor(\"black\")\n",
    "wn.setup(width=800,height=600)\n",
    "wn.tracer(0)"
   ]
  },
  {
   "cell_type": "code",
   "execution_count": 3,
   "metadata": {},
   "outputs": [],
   "source": [
    "score_a =0\n",
    "score_b =0"
   ]
  },
  {
   "cell_type": "code",
   "execution_count": 4,
   "metadata": {},
   "outputs": [],
   "source": [
    "paddle_a=turtle.Turtle()\n",
    "paddle_a.speed(0)\n",
    "paddle_a.shape(\"square\")\n",
    "paddle_a.color(\"white\")\n",
    "paddle_a.shapesize(stretch_wid=5,stretch_len=1)\n",
    "paddle_a.penup()\n",
    "paddle_a.goto(-350,0)"
   ]
  },
  {
   "cell_type": "code",
   "execution_count": 5,
   "metadata": {},
   "outputs": [],
   "source": [
    "paddle_b=turtle.Turtle()\n",
    "paddle_b.speed(0)\n",
    "paddle_b.shape(\"square\")\n",
    "paddle_b.color(\"white\")\n",
    "paddle_b.shapesize(stretch_wid=5,stretch_len=1)\n",
    "paddle_b.penup()\n",
    "paddle_b.goto(350,0)"
   ]
  },
  {
   "cell_type": "code",
   "execution_count": 6,
   "metadata": {},
   "outputs": [],
   "source": [
    "ball=turtle.Turtle()\n",
    "ball.speed(0)\n",
    "ball.shape(\"turtle\")\n",
    "ball.color(\"green\")\n",
    "ball.penup()\n",
    "ball.goto(0,0)\n",
    "ball.dx=2\n",
    "ball.dy=2"
   ]
  },
  {
   "cell_type": "code",
   "execution_count": 7,
   "metadata": {},
   "outputs": [],
   "source": [
    "pen=turtle.Turtle()\n",
    "pen.speed(0)\n",
    "pen.shape(\"square\")\n",
    "pen.color(\"white\")\n",
    "pen.penup()\n",
    "pen.hideturtle()\n",
    "pen.goto(0,260)\n",
    "pen.write(\"player A:0   player B :0\",align=\"center\")"
   ]
  },
  {
   "cell_type": "code",
   "execution_count": 8,
   "metadata": {},
   "outputs": [],
   "source": [
    "def paddle_a_up():\n",
    "    y=paddle_a.ycor()\n",
    "    y+=20\n",
    "    paddle_a.sety(y)"
   ]
  },
  {
   "cell_type": "code",
   "execution_count": 9,
   "metadata": {},
   "outputs": [],
   "source": [
    "def paddle_a_down():\n",
    "    y=paddle_a.ycor()\n",
    "    y-=20\n",
    "    paddle_a.sety(y)"
   ]
  },
  {
   "cell_type": "code",
   "execution_count": 10,
   "metadata": {},
   "outputs": [],
   "source": [
    "def paddle_b_up():\n",
    "    y=paddle_b.ycor()\n",
    "    y+=20\n",
    "    paddle_b.sety(y)"
   ]
  },
  {
   "cell_type": "code",
   "execution_count": 11,
   "metadata": {},
   "outputs": [],
   "source": [
    "def paddle_b_down():\n",
    "    y=paddle_b.ycor()\n",
    "    y-=20\n",
    "    paddle_b.sety(y)"
   ]
  },
  {
   "cell_type": "code",
   "execution_count": 13,
   "metadata": {},
   "outputs": [],
   "source": [
    "wn.listen()\n",
    "wn.onkeypress(paddle_a_up,\"w\")\n",
    "wn.onkeypress(paddle_a_down,\"x\")\n",
    "wn.onkeypress(paddle_b_up,\"Up\")\n",
    "wn.onkeypress(paddle_b_down,\"Down\")"
   ]
  },
  {
   "cell_type": "code",
   "execution_count": null,
   "metadata": {},
   "outputs": [
    {
     "name": "stderr",
     "output_type": "stream",
     "text": [
      "Exception in Tkinter callback\n",
      "Traceback (most recent call last):\n",
      "  File \"C:\\Users\\Anil\\anaconda3\\lib\\tkinter\\__init__.py\", line 1705, in __call__\n",
      "    return self.func(*args)\n",
      "  File \"C:\\Users\\Anil\\anaconda3\\lib\\turtle.py\", line 701, in eventfun\n",
      "    fun()\n",
      "  File \"<ipython-input-12-f740838aea98>\", line 2, in stop\n",
      "    stop()\n",
      "  File \"<ipython-input-12-f740838aea98>\", line 2, in stop\n",
      "    stop()\n",
      "  File \"<ipython-input-12-f740838aea98>\", line 2, in stop\n",
      "    stop()\n",
      "  [Previous line repeated 2951 more times]\n",
      "RecursionError: maximum recursion depth exceeded\n",
      "Exception in Tkinter callback\n",
      "Traceback (most recent call last):\n",
      "  File \"C:\\Users\\Anil\\anaconda3\\lib\\tkinter\\__init__.py\", line 1705, in __call__\n",
      "    return self.func(*args)\n",
      "  File \"C:\\Users\\Anil\\anaconda3\\lib\\turtle.py\", line 701, in eventfun\n",
      "    fun()\n",
      "  File \"<ipython-input-12-f740838aea98>\", line 2, in stop\n",
      "    stop()\n",
      "  File \"<ipython-input-12-f740838aea98>\", line 2, in stop\n",
      "    stop()\n",
      "  File \"<ipython-input-12-f740838aea98>\", line 2, in stop\n",
      "    stop()\n",
      "  [Previous line repeated 2951 more times]\n",
      "RecursionError: maximum recursion depth exceeded\n"
     ]
    }
   ],
   "source": [
    "while True:\n",
    "    wn.update()\n",
    "    ball.setx(ball.xcor()+ball.dx)\n",
    "    ball.sety(ball.ycor()+ball.dy)\n",
    "    if ball.ycor()>290:\n",
    "        ball.sety(290)\n",
    "        ball.dy*=-1\n",
    "        os.system(\"afplay bounce.wav&\")\n",
    "    elif ball.ycor()<-290:\n",
    "        ball.sety(-290)\n",
    "        ball.dy*=-1\n",
    "        os.system(\"afplay bounce.wav&\")\n",
    "    if ball.xcor()>350:\n",
    "        score_a+=1\n",
    "        pen.clear()\n",
    "        pen.write(\"player A:{}               player B:{}\".format(score_a,score_b),align=\"center\")\n",
    "        if(score_a or score_b)==20:\n",
    "            pen.write(\"WINNER\")\n",
    "        ball.goto(0,0)\n",
    "        ball.dx*=-1\n",
    "    elif ball.xcor()<-350:\n",
    "        score_b+=1\n",
    "        pen.clear()\n",
    "        pen.write(\"player A:{}      player B:{}\".format(score_a,score_b),align=\"center\")\n",
    "        ball.goto(0,0)\n",
    "        ball.dx*=-1\n",
    "    if ball.xcor()<-340 and ball.ycor()<paddle_a.ycor()+50 and ball.ycor()>paddle_a.ycor()-50:\n",
    "        ball.dx*=-1\n",
    "        os.system(\"afpaly bounce.wav&\")\n",
    "    elif ball.xcor()>340 and ball.ycor()<paddle_b.ycor()+50 and ball.ycor()>paddle_b.ycor()-50:\n",
    "        ball.dx*=-1\n",
    "        os.system(\"afplay bounce.wav&\")"
   ]
  },
  {
   "cell_type": "code",
   "execution_count": null,
   "metadata": {},
   "outputs": [],
   "source": [
    "turle.done()"
   ]
  },
  {
   "cell_type": "code",
   "execution_count": null,
   "metadata": {},
   "outputs": [],
   "source": []
  }
 ],
 "metadata": {
  "kernelspec": {
   "display_name": "Python 3",
   "language": "python",
   "name": "python3"
  },
  "language_info": {
   "codemirror_mode": {
    "name": "ipython",
    "version": 3
   },
   "file_extension": ".py",
   "mimetype": "text/x-python",
   "name": "python",
   "nbconvert_exporter": "python",
   "pygments_lexer": "ipython3",
   "version": "3.7.6"
  }
 },
 "nbformat": 4,
 "nbformat_minor": 4
}
